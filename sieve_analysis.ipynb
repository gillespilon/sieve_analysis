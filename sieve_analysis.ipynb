{
 "cells": [
  {
   "cell_type": "markdown",
   "metadata": {},
   "source": [
    "# Sieve analysis"
   ]
  },
  {
   "cell_type": "markdown",
   "metadata": {},
   "source": [
    "# Document information"
   ]
  },
  {
   "cell_type": "markdown",
   "metadata": {},
   "source": [
    "<table align=\"left\">\n",
    "    <tr>\n",
    "        <th class=\"text-align:left\">Title</th>\n",
    "        <td class=\"text-align:left\">Sieve analysis</td>\n",
    "    </tr>\n",
    "    <tr>\n",
    "        <th class=\"text-align:left\">Last modified</th>\n",
    "        <td class=\"text-align:left\">2018-07-24</td>\n",
    "    </tr>\n",
    "    <tr>\n",
    "        <th class=\"text-align:left\">Author</th>\n",
    "        <td class=\"text-align:left\">Gilles Pilon <gillespilon13@gmail.com></td>\n",
    "    </tr>\n",
    "    <tr>\n",
    "        <th class=\"text-align:left\">Status</th>\n",
    "        <td class=\"text-align:left\">Active</td>\n",
    "    </tr>\n",
    "    <tr>\n",
    "        <th class=\"text-align:left\">Type</th>\n",
    "        <td class=\"text-align:left\">Jupyter notebook</td>\n",
    "    </tr>\n",
    "    <tr>\n",
    "        <th class=\"text-align:left\">Created</th>\n",
    "        <td class=\"text-align:left\">2018-07-11</td>\n",
    "    </tr>\n",
    "    <tr>\n",
    "        <th class=\"text-align:left\">File name</th>\n",
    "        <td class=\"text-align:left\">sieve_analysis.ipynb</td>\n",
    "    </tr>\n",
    "    <tr>\n",
    "        <th class=\"text-align:left\">Other files required</th>\n",
    "        <td class=\"text-align:left\">sieve_data.csv</td>\n",
    "    </tr>\n",
    "</table>"
   ]
  },
  {
   "cell_type": "markdown",
   "metadata": {},
   "source": [
    "# In brevi\n",
    "\n",
    "The purpose of this Jupyter notebook is to perform a sieve analysis."
   ]
  },
  {
   "cell_type": "markdown",
   "metadata": {},
   "source": [
    "# Methodology\n",
    "\n",
    "A sieve analysis is used to determine the particle size distribution of a granular material. Material is passed through a series of progressively smaller sieves. The mass of the material stopped by each sieve is determined as a fraction of the whole mass."
   ]
  },
  {
   "cell_type": "markdown",
   "metadata": {},
   "source": [
    "# Data\n",
    "\n",
    "Download the data file:\n",
    "\n",
    "[sieve_data.csv](https://drive.google.com/open?id=1QuhQmVAnxEakP879FnAt-GD0ElpuT49M)\n",
    "\n",
    "This file has five columns:\n",
    "\n",
    "- std sieve\n",
    "- tyler sieve\n",
    "- particle diameter\n",
    "- sieve mass\n",
    "- sieve soil mass\n",
    "\n",
    "Clear the contents of the \"sieve mass\" and \"sieve soil mass\" columns. Enter values of \"sieve mass\" and \"sieve soil mass\" for the desired sieves. Save the file as a CSV with UTF-8 encoding."
   ]
  },
  {
   "cell_type": "markdown",
   "metadata": {},
   "source": [
    "# How to use this notebook\n",
    "\n",
    "1. Edit the constant.\n",
    "2. Recalculate all the \"In\" cells."
   ]
  },
  {
   "cell_type": "markdown",
   "metadata": {},
   "source": [
    "# Import libraries and basic setup"
   ]
  },
  {
   "cell_type": "code",
   "execution_count": 1,
   "metadata": {},
   "outputs": [],
   "source": [
    "import pandas as pd\n",
    "%matplotlib inline\n",
    "import matplotlib.cm as cm\n",
    "import numpy as np\n",
    "dotslog_c, dots_c, line_c, *_ = cm.Paired.colors"
   ]
  },
  {
   "cell_type": "markdown",
   "metadata": {},
   "source": [
    "# Define the constant"
   ]
  },
  {
   "cell_type": "code",
   "execution_count": 2,
   "metadata": {},
   "outputs": [],
   "source": [
    "# Enter the density of the material that was sieved.\n",
    "density = 1.32"
   ]
  },
  {
   "cell_type": "markdown",
   "metadata": {},
   "source": [
    "# Read the data file"
   ]
  },
  {
   "cell_type": "code",
   "execution_count": 3,
   "metadata": {},
   "outputs": [],
   "source": [
    "df = pd.read_csv('sieve_data.csv')"
   ]
  },
  {
   "cell_type": "markdown",
   "metadata": {},
   "source": [
    "# Perform the analysis"
   ]
  },
  {
   "cell_type": "code",
   "execution_count": 4,
   "metadata": {},
   "outputs": [
    {
     "data": {
      "text/html": [
       "<div>\n",
       "<style scoped>\n",
       "    .dataframe tbody tr th:only-of-type {\n",
       "        vertical-align: middle;\n",
       "    }\n",
       "\n",
       "    .dataframe tbody tr th {\n",
       "        vertical-align: top;\n",
       "    }\n",
       "\n",
       "    .dataframe thead th {\n",
       "        text-align: right;\n",
       "    }\n",
       "</style>\n",
       "<table border=\"1\" class=\"dataframe\">\n",
       "  <thead>\n",
       "    <tr style=\"text-align: right;\">\n",
       "      <th></th>\n",
       "      <th>std sieve</th>\n",
       "      <th>tyler sieve</th>\n",
       "      <th>particle diameter</th>\n",
       "      <th>sieve mass</th>\n",
       "      <th>sieve soil mass</th>\n",
       "      <th>retained mass</th>\n",
       "      <th>retained pct</th>\n",
       "      <th>cumul retained pct</th>\n",
       "      <th>passing pct</th>\n",
       "    </tr>\n",
       "  </thead>\n",
       "  <tbody>\n",
       "    <tr>\n",
       "      <th>1</th>\n",
       "      <td>4</td>\n",
       "      <td>4</td>\n",
       "      <td>4760</td>\n",
       "      <td>1.0</td>\n",
       "      <td>1.6</td>\n",
       "      <td>0.6</td>\n",
       "      <td>0.121</td>\n",
       "      <td>0.121</td>\n",
       "      <td>99.879</td>\n",
       "    </tr>\n",
       "    <tr>\n",
       "      <th>6</th>\n",
       "      <td>10</td>\n",
       "      <td>9</td>\n",
       "      <td>2000</td>\n",
       "      <td>1.0</td>\n",
       "      <td>1.6</td>\n",
       "      <td>0.6</td>\n",
       "      <td>0.121</td>\n",
       "      <td>0.241</td>\n",
       "      <td>99.759</td>\n",
       "    </tr>\n",
       "    <tr>\n",
       "      <th>11</th>\n",
       "      <td>20</td>\n",
       "      <td>20</td>\n",
       "      <td>841</td>\n",
       "      <td>208.0</td>\n",
       "      <td>416.0</td>\n",
       "      <td>208.0</td>\n",
       "      <td>41.860</td>\n",
       "      <td>42.101</td>\n",
       "      <td>57.899</td>\n",
       "    </tr>\n",
       "    <tr>\n",
       "      <th>15</th>\n",
       "      <td>40</td>\n",
       "      <td>35</td>\n",
       "      <td>420</td>\n",
       "      <td>191.4</td>\n",
       "      <td>382.8</td>\n",
       "      <td>191.4</td>\n",
       "      <td>38.519</td>\n",
       "      <td>80.620</td>\n",
       "      <td>19.380</td>\n",
       "    </tr>\n",
       "    <tr>\n",
       "      <th>18</th>\n",
       "      <td>60</td>\n",
       "      <td>60</td>\n",
       "      <td>250</td>\n",
       "      <td>72.3</td>\n",
       "      <td>144.6</td>\n",
       "      <td>72.3</td>\n",
       "      <td>14.550</td>\n",
       "      <td>95.170</td>\n",
       "      <td>4.830</td>\n",
       "    </tr>\n",
       "    <tr>\n",
       "      <th>25</th>\n",
       "      <td>200</td>\n",
       "      <td>200</td>\n",
       "      <td>74</td>\n",
       "      <td>23.1</td>\n",
       "      <td>46.2</td>\n",
       "      <td>23.1</td>\n",
       "      <td>4.649</td>\n",
       "      <td>99.819</td>\n",
       "      <td>0.181</td>\n",
       "    </tr>\n",
       "    <tr>\n",
       "      <th>29</th>\n",
       "      <td>pan</td>\n",
       "      <td>pan</td>\n",
       "      <td>10</td>\n",
       "      <td>0.9</td>\n",
       "      <td>1.8</td>\n",
       "      <td>0.9</td>\n",
       "      <td>0.181</td>\n",
       "      <td>100.000</td>\n",
       "      <td>0.000</td>\n",
       "    </tr>\n",
       "  </tbody>\n",
       "</table>\n",
       "</div>"
      ],
      "text/plain": [
       "   std sieve tyler sieve  particle diameter  sieve mass  sieve soil mass  \\\n",
       "1          4           4               4760         1.0              1.6   \n",
       "6         10           9               2000         1.0              1.6   \n",
       "11        20          20                841       208.0            416.0   \n",
       "15        40          35                420       191.4            382.8   \n",
       "18        60          60                250        72.3            144.6   \n",
       "25       200         200                 74        23.1             46.2   \n",
       "29       pan         pan                 10         0.9              1.8   \n",
       "\n",
       "    retained mass  retained pct  cumul retained pct  passing pct  \n",
       "1             0.6         0.121               0.121       99.879  \n",
       "6             0.6         0.121               0.241       99.759  \n",
       "11          208.0        41.860              42.101       57.899  \n",
       "15          191.4        38.519              80.620       19.380  \n",
       "18           72.3        14.550              95.170        4.830  \n",
       "25           23.1         4.649              99.819        0.181  \n",
       "29            0.9         0.181             100.000        0.000  "
      ]
     },
     "execution_count": 4,
     "metadata": {},
     "output_type": "execute_result"
    }
   ],
   "source": [
    "df['retained mass'] = df['sieve soil mass'] - df['sieve mass']\n",
    "df.dropna(subset=['sieve mass'], inplace=True)\n",
    "# rmt = retained mass total\n",
    "rmt = df['retained mass'].sum()\n",
    "df['retained pct'] = df['retained mass'] / rmt * 100\n",
    "df['cumul retained pct'] = df['retained pct'].cumsum()\n",
    "df['passing pct'] = 100 - df['cumul retained pct']\n",
    "df.round(3)"
   ]
  },
  {
   "cell_type": "markdown",
   "metadata": {},
   "source": [
    "# Save the results"
   ]
  },
  {
   "cell_type": "code",
   "execution_count": 5,
   "metadata": {},
   "outputs": [],
   "source": [
    "df.to_csv('sieve_results.csv')"
   ]
  },
  {
   "cell_type": "markdown",
   "metadata": {},
   "source": [
    "# Perform the geometric analysis"
   ]
  },
  {
   "cell_type": "code",
   "execution_count": 6,
   "metadata": {},
   "outputs": [
    {
     "name": "stdout",
     "output_type": "stream",
     "text": [
      "geometric mean particle size = 479.502\n",
      "geometric standard deviation = 1.881\n",
      "surface area = 115.72\n",
      "number parts per g = 41366.213\n"
     ]
    }
   ],
   "source": [
    "# gmps = geometric mean particle size\n",
    "gmps = np.exp(((df['retained mass'] *\\\n",
    "       np.log(df['particle diameter'])).sum()) / rmt)\n",
    "print('geometric mean particle size',\n",
    "      np.exp(((df['retained mass'] *\\\n",
    "      np.log(df['particle diameter'])).sum())\\\n",
    "      / rmt).round(3),\n",
    "      sep=\" = \")\n",
    "# gsd = geometric standard deviation\n",
    "gsd = np.exp((((df['retained mass'] *\\\n",
    "      (np.log(df['particle diameter']) - (df['retained mass'] *\\\n",
    "      np.log(df['particle diameter'])).sum() / rmt)**2).sum())\\\n",
    "      / rmt)**0.5)\n",
    "print('geometric standard deviation',\n",
    "      gsd.round(3),\n",
    "      sep=\" = \")\n",
    "surface_area = 6/density * np.exp(0.5 * (np.log(gsd)**2) -\\\n",
    "               np.log(gmps / 10000))\n",
    "print('surface area',\n",
    "      surface_area.round(3),\n",
    "      sep=\" = \")\n",
    "# nppg = number parts per g\n",
    "nppg = 1/density * np.exp((4.5 *\\\n",
    "       np.log(gsd)**2) -\\\n",
    "       3 * np.log(gmps / 10000))\n",
    "print('number parts per g',\n",
    "      nppg.round(3),\n",
    "      sep=\" = \")"
   ]
  },
  {
   "cell_type": "markdown",
   "metadata": {},
   "source": [
    "# Create graphs"
   ]
  },
  {
   "cell_type": "code",
   "execution_count": 7,
   "metadata": {},
   "outputs": [
    {
     "data": {
      "image/png": "[encoded data removed]",
      "text/plain": [
       "<Figure size 432x288 with 1 Axes>"
      ]
     },
     "metadata": {},
     "output_type": "display_data"
    }
   ],
   "source": [
    "ax = df.plot(x='particle diameter', y='passing pct', logx=True, style='.-',\\\n",
    "             legend=False, color=dotslog_c, grid=True)\n",
    "ax.set_xlabel('Particle diameter (micron)')\n",
    "ax.set_ylabel('Percent passing')\n",
    "ax.set_title('Percent passing versus log particle diameter (%)')\n",
    "ax.grid(True, which='minor', axis='x')\n",
    "for spine in 'right', 'top':\n",
    "    ax.spines[spine].set_color('none')\n",
    "ax.figure.savefig('sieve_percent_passing_vs_logdiameter.svg', format='svg')\n",
    "ax.figure.savefig('sieve_percent_passing_vs_logdiameter.pdf', format='pdf')"
   ]
  },
  {
   "cell_type": "code",
   "execution_count": 8,
   "metadata": {},
   "outputs": [
    {
     "data": {
      "image/png": "[encoded data removed]",
      "text/plain": [
       "<Figure size 432x288 with 1 Axes>"
      ]
     },
     "metadata": {},
     "output_type": "display_data"
    }
   ],
   "source": [
    "ax = df.plot(x='particle diameter', y='passing pct', style='.-',\\\n",
    "             legend=False, color=dots_c, grid=True)\n",
    "ax.set_xlabel('Particle diameter (micron)')\n",
    "ax.set_ylabel('Percent passing')\n",
    "ax.set_title('Percent passing versus particle diameter (%)')\n",
    "ax.grid(True, which='minor', axis='x')\n",
    "for spine in 'right', 'top':\n",
    "    ax.spines[spine].set_color('none')\n",
    "ax.figure.savefig('sieve_percent_passing_vs_diameter.svg', format='svg')\n",
    "ax.figure.savefig('sieve_percent_passing_vs_diameter.pdf', format='pdf')"
   ]
  }
 ],
 "metadata": {
  "kernelspec": {
   "display_name": "Python 3",
   "language": "python",
   "name": "python3"
  },
  "language_info": {
   "codemirror_mode": {
    "name": "ipython",
    "version": 3
   },
   "file_extension": ".py",
   "mimetype": "text/x-python",
   "name": "python",
   "nbconvert_exporter": "python",
   "pygments_lexer": "ipython3",
   "version": "3.6.6"
  }
 },
 "nbformat": 4,
 "nbformat_minor": 2
}
