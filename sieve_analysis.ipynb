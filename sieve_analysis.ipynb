{
 "cells": [
  {
   "cell_type": "markdown",
   "metadata": {},
   "source": [
    "# Sieve analysis"
   ]
  },
  {
   "cell_type": "markdown",
   "metadata": {},
   "source": [
    "# Document information"
   ]
  },
  {
   "cell_type": "markdown",
   "metadata": {},
   "source": [
    "<table align=\"left\">\n",
    "    <tr>\n",
    "        <th class=\"text-align:left\">Title</th>\n",
    "        <td class=\"text-align:left\">Sieve analysis</td>\n",
    "    </tr>\n",
    "    <tr>\n",
    "        <th class=\"text-align:left\">Last modified</th>\n",
    "        <td class=\"text-align:left\">2020-10-07</td>\n",
    "    </tr>\n",
    "    <tr>\n",
    "        <th class=\"text-align:left\">Author</th>\n",
    "        <td class=\"text-align:left\">Gilles Pilon <gillespilon13@gmail.com></td>\n",
    "    </tr>\n",
    "    <tr>\n",
    "        <th class=\"text-align:left\">Status</th>\n",
    "        <td class=\"text-align:left\">Active</td>\n",
    "    </tr>\n",
    "    <tr>\n",
    "        <th class=\"text-align:left\">Type</th>\n",
    "        <td class=\"text-align:left\">Jupyter notebook</td>\n",
    "    </tr>\n",
    "    <tr>\n",
    "        <th class=\"text-align:left\">Created</th>\n",
    "        <td class=\"text-align:left\">2018-07-11</td>\n",
    "    </tr>\n",
    "    <tr>\n",
    "        <th class=\"text-align:left\">File name</th>\n",
    "        <td class=\"text-align:left\">sieve_analysis.ipynb</td>\n",
    "    </tr>\n",
    "    <tr>\n",
    "        <th class=\"text-align:left\">Other files required</th>\n",
    "        <td class=\"text-align:left\">sieve_data.csv</td>\n",
    "    </tr>\n",
    "</table>"
   ]
  },
  {
   "cell_type": "markdown",
   "metadata": {},
   "source": [
    "# In brevi\n",
    "\n",
    "The purpose of this Jupyter notebook is to perform a sieve analysis."
   ]
  },
  {
   "cell_type": "markdown",
   "metadata": {},
   "source": [
    "# Methodology\n",
    "\n",
    "A sieve analysis is used to determine the particle size distribution of a granular material. Material is passed through a series of progressively smaller sieves. The mass of the material stopped by each sieve is determined as a fraction of the whole mass."
   ]
  },
  {
   "cell_type": "markdown",
   "metadata": {},
   "source": [
    "# Data\n",
    "\n",
    "Download the data file:\n",
    "\n",
    "[sieve_data.csv](https://drive.google.com/open?id=1QuhQmVAnxEakP879FnAt-GD0ElpuT49M)\n",
    "\n",
    "This file has five columns:\n",
    "\n",
    "- std sieve\n",
    "- tyler sieve\n",
    "- particle diameter\n",
    "- sieve mass\n",
    "- sieve soil mass\n",
    "\n",
    "Clear the contents of the \"sieve mass\" and \"sieve soil mass\" columns. Enter values of \"sieve mass\" and \"sieve soil mass\" for the desired sieves. Save the file as a CSV with UTF-8 encoding."
   ]
  },
  {
   "cell_type": "markdown",
   "metadata": {},
   "source": [
    "# How to use this notebook\n",
    "\n",
    "1. Edit the constant.\n",
    "2. Recalculate all the \"In\" cells."
   ]
  },
  {
   "cell_type": "markdown",
   "metadata": {},
   "source": [
    "# Import libraries and basic setup"
   ]
  },
  {
   "cell_type": "code",
   "execution_count": 1,
   "metadata": {},
   "outputs": [],
   "source": [
    "import matplotlib.pyplot as plt\n",
    "import pandas as pd\n",
    "import numpy as np"
   ]
  },
  {
   "cell_type": "code",
   "execution_count": 2,
   "metadata": {},
   "outputs": [],
   "source": [
    "%matplotlib inline"
   ]
  },
  {
   "cell_type": "markdown",
   "metadata": {},
   "source": [
    "# Define  constants"
   ]
  },
  {
   "cell_type": "code",
   "execution_count": 3,
   "metadata": {},
   "outputs": [],
   "source": [
    "colour1 = '#0077bb'\n",
    "colour2 = '#33bbee'\n",
    "figure_size = (8, 6)\n",
    "# Enter the density of the material that was sieved.\n",
    "density = 1.32"
   ]
  },
  {
   "cell_type": "markdown",
   "metadata": {},
   "source": [
    "# Read the data file"
   ]
  },
  {
   "cell_type": "code",
   "execution_count": 4,
   "metadata": {},
   "outputs": [],
   "source": [
    "df = pd.read_csv('sieve_data.csv')"
   ]
  },
  {
   "cell_type": "markdown",
   "metadata": {},
   "source": [
    "# Perform the analysis"
   ]
  },
  {
   "cell_type": "code",
   "execution_count": 5,
   "metadata": {},
   "outputs": [],
   "source": [
    "df['retained mass'] = df['sieve soil mass'] - df['sieve mass']\n",
    "# Drop rows where empty cells are present in column 'sieve mass'\n",
    "df = df.dropna(\n",
    "    axis=0,\n",
    "    how='any',\n",
    "    subset=['sieve mass']\n",
    ")\n",
    "retained_mass_total = df['retained mass'].sum()\n",
    "df['retained pct'] = df['retained mass'] / retained_mass_total * 100\n",
    "df['cumul retained pct'] = df['retained pct'].cumsum()\n",
    "df['passing pct'] = 100 - df['cumul retained pct']"
   ]
  },
  {
   "cell_type": "markdown",
   "metadata": {},
   "source": [
    "# Save the results"
   ]
  },
  {
   "cell_type": "code",
   "execution_count": 6,
   "metadata": {},
   "outputs": [],
   "source": [
    "df.round(3).to_csv('sieve_results.csv')"
   ]
  },
  {
   "cell_type": "markdown",
   "metadata": {},
   "source": [
    "# Perform the geometric analysis"
   ]
  },
  {
   "cell_type": "code",
   "execution_count": 7,
   "metadata": {},
   "outputs": [
    {
     "name": "stdout",
     "output_type": "stream",
     "text": [
      "geometric mean particle size = 479.502\n",
      "geometric standard deviation = 1.881\n",
      "surface area = 115.72\n",
      "number parts per g = 41366.213\n"
     ]
    }
   ],
   "source": [
    "geometric_mean_particle_size = np.exp(\n",
    "    ((df['retained mass'] * np.log(df['particle diameter'])).sum()) /\n",
    "    retained_mass_total\n",
    ")\n",
    "print(\n",
    "    'geometric mean particle size',\n",
    "    np.exp(((df['retained mass'] *\n",
    "           np.log(df['particle diameter'])).sum())\n",
    "           / retained_mass_total).round(3),\n",
    "    sep=\" = \"\n",
    ")\n",
    "geometric_standard_deviation = np.exp(\n",
    "    (((df['retained mass'] * (np.log(df['particle diameter']) -\n",
    "     (df['retained mass'] * np.log(df['particle diameter'])).sum() /\n",
    "     retained_mass_total)**2).sum()) / retained_mass_total)**0.5\n",
    ")\n",
    "print('geometric standard deviation',\n",
    "      geometric_standard_deviation.round(3),\n",
    "      sep=\" = \")\n",
    "surface_area = 6 / density * np.exp(\n",
    "    0.5 * (np.log(geometric_standard_deviation)**2) -\n",
    "    np.log(geometric_mean_particle_size / 10000))\n",
    "print('surface area',\n",
    "      surface_area.round(3),\n",
    "      sep=\" = \")\n",
    "number_parts_per_g = 1 / density * \\\n",
    "    np.exp(\n",
    "        (4.5 * np.log(geometric_standard_deviation)**2) -\n",
    "        3 * np.log(geometric_mean_particle_size / 10000)\n",
    "        )\n",
    "print('number parts per g',\n",
    "      number_parts_per_g.round(3),\n",
    "      sep=\" = \")"
   ]
  },
  {
   "cell_type": "markdown",
   "metadata": {},
   "source": [
    "# Create graphs"
   ]
  },
  {
   "cell_type": "code",
   "execution_count": 8,
   "metadata": {},
   "outputs": [
    {
     "data": {
      "image/png": "[encoded data removed]",
      "text/plain": [
       "<Figure size 576x432 with 1 Axes>"
      ]
     },
     "metadata": {
      "needs_background": "light"
     },
     "output_type": "display_data"
    }
   ],
   "source": [
    "fig = plt.figure(figsize=figure_size)\n",
    "ax = fig.add_subplot(111)\n",
    "ax.semilogx(\n",
    "    df['particle diameter'],\n",
    "    df['passing pct'],\n",
    "    marker='.',\n",
    "    markersize=8,\n",
    "    linestyle='-',\n",
    "    color=colour1\n",
    ")\n",
    "ax.grid(\n",
    "    b=True,\n",
    "    which='both',\n",
    "    axis='both',\n",
    "    color='#bbbbbb'\n",
    ")\n",
    "fig.suptitle(\n",
    "    t='Sieve Analysis',\n",
    "    ha='center',\n",
    "    fontsize=15,\n",
    "    fontweight='bold'\n",
    ")\n",
    "ax.set_title(\n",
    "    label='Percent passing versus log particle diameter (%)',\n",
    "    loc='center',\n",
    "    fontsize=15,\n",
    "    fontweight='normal'\n",
    ")\n",
    "ax.set_xlabel(\n",
    "    xlabel='Particle diameter (micron)',\n",
    "    ha='center',\n",
    "    fontsize=12,\n",
    "    fontweight='normal'\n",
    ")\n",
    "ax.set_ylabel(\n",
    "    ylabel='Percent passing',\n",
    "    ha='center',\n",
    "    fontsize=12,\n",
    "    fontweight='normal'\n",
    ")\n",
    "for spine in 'right', 'top':\n",
    "    ax.spines[spine].set_visible(False)\n",
    "fig.savefig('sieve_percent_passing_vs_logdiameter.svg', format='svg')\n",
    "fig.savefig('sieve_percent_passing_vs_logdiameter.pdf', format='pdf')"
   ]
  },
  {
   "cell_type": "code",
   "execution_count": 9,
   "metadata": {},
   "outputs": [
    {
     "data": {
      "image/png": "[encoded data removed]",
      "text/plain": [
       "<Figure size 576x432 with 1 Axes>"
      ]
     },
     "metadata": {
      "needs_background": "light"
     },
     "output_type": "display_data"
    }
   ],
   "source": [
    "fig = plt.figure(figsize=figure_size)\n",
    "ax = fig.add_subplot(111)\n",
    "ax.plot(\n",
    "    df['particle diameter'],\n",
    "    df['passing pct'],\n",
    "    marker='.',\n",
    "    markersize=8,\n",
    "    linestyle='-',\n",
    "    color=colour2\n",
    ")\n",
    "ax.grid(\n",
    "    b=True,\n",
    "    which='both',\n",
    "    axis='both',\n",
    "    color='#bbbbbb'\n",
    ")\n",
    "fig.suptitle(\n",
    "    t='Sieve Analysis',\n",
    "    ha='center',\n",
    "    fontsize=15,\n",
    "    fontweight='bold'\n",
    ")\n",
    "ax.set_title(\n",
    "    label='Percent passing versus particle diameter (%)',\n",
    "    loc='center',\n",
    "    fontsize=15,\n",
    "    fontweight='normal'\n",
    ")\n",
    "ax.set_xlabel(\n",
    "    xlabel='Particle diameter (micron)',\n",
    "    ha='center',\n",
    "    fontsize=12,\n",
    "    fontweight='normal'\n",
    ")\n",
    "ax.set_ylabel(\n",
    "    ylabel='Percent passing',\n",
    "    ha='center',\n",
    "    fontsize=12,\n",
    "    fontweight='normal'\n",
    ")\n",
    "for spine in 'right', 'top':\n",
    "    ax.spines[spine].set_visible(False)\n",
    "fig.savefig('sieve_percent_passing_vs_diameter.svg', format='svg')\n",
    "fig.savefig('sieve_percent_passing_vs_diameter.pdf', format='pdf')"
   ]
  }
 ],
 "metadata": {
  "kernelspec": {
   "display_name": "Python 3",
   "language": "python",
   "name": "python3"
  },
  "language_info": {
   "codemirror_mode": {
    "name": "ipython",
    "version": 3
   },
   "file_extension": ".py",
   "mimetype": "text/x-python",
   "name": "python",
   "nbconvert_exporter": "python",
   "pygments_lexer": "ipython3",
   "version": "3.8.6"
  },
  "varInspector": {
   "cols": {
    "lenName": 16,
    "lenType": 16,
    "lenVar": 40
   },
   "kernels_config": {
    "python": {
     "delete_cmd_postfix": "",
     "delete_cmd_prefix": "del ",
     "library": "var_list.py",
     "varRefreshCmd": "print(var_dic_list())"
    },
    "r": {
     "delete_cmd_postfix": ") ",
     "delete_cmd_prefix": "rm(",
     "library": "var_list.r",
     "varRefreshCmd": "cat(var_dic_list()) "
    }
   },
   "types_to_exclude": [
    "module",
    "function",
    "builtin_function_or_method",
    "instance",
    "_Feature"
   ],
   "window_display": false
  }
 },
 "nbformat": 4,
 "nbformat_minor": 2
}
